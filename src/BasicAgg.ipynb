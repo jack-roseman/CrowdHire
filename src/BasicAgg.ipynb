{
  "nbformat": 4,
  "nbformat_minor": 0,
  "metadata": {
    "colab": {
      "name": "BasicAgg.ipynb",
      "provenance": [],
      "collapsed_sections": []
    },
    "kernelspec": {
      "name": "python3",
      "display_name": "Python 3"
    },
    "language_info": {
      "name": "python"
    }
  },
  "cells": [
    {
      "cell_type": "code",
      "metadata": {
        "id": "8kEtalWy8SUg"
      },
      "source": [
        "import pandas as pd"
      ],
      "execution_count": 25,
      "outputs": []
    },
    {
      "cell_type": "code",
      "metadata": {
        "id": "7G8e66x5FH5-"
      },
      "source": [
        "def processInput(input_file):\n",
        "  inputs = pd.read_csv(input_file)\n",
        "  r1 = inputs.iloc[:, 3:24]\n",
        "  r1.columns = r1.columns.str.lstrip('resume1.')\n",
        "  r2 = inputs.iloc[:, 24: 45]\n",
        "  r2.columns = r2.columns.str.lstrip('resume2.')\n",
        "  r3 = inputs.iloc[:, 45: ]\n",
        "  r3.columns = r3.columns.str.lstrip('resume3.')\n",
        "  return aggregateInput(r1, r2, r3)"
      ],
      "execution_count": 38,
      "outputs": []
    },
    {
      "cell_type": "code",
      "metadata": {
        "id": "gofZNJKaB2e2"
      },
      "source": [
        "def aggregateInput(r1, r2, r3):\n",
        "  combined_df = pd.concat([q1, q2, q3], ignore_index=True)\n",
        "  aggregated = combined_df.groupby('ID').apply(pd.DataFrame.mode).reset_index(drop=True)\n",
        "  return aggregated"
      ],
      "execution_count": 39,
      "outputs": []
    }
  ]
}