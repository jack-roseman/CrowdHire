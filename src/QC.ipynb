{
 "cells": [
  {
   "cell_type": "code",
   "execution_count": 2,
   "metadata": {},
   "outputs": [],
   "source": [
    "import pandas as pd"
   ]
  },
  {
   "cell_type": "code",
   "execution_count": 3,
   "metadata": {},
   "outputs": [],
   "source": [
    "QC_input = pd.read_csv('qw.csv')"
   ]
  },
  {
   "cell_type": "code",
   "execution_count": 4,
   "metadata": {},
   "outputs": [],
   "source": [
    "workers = set()\n",
    "for i, row in QC_input.iterrows():\n",
    "    workers.add(row['WorkerId'])"
   ]
  },
  {
   "cell_type": "code",
   "execution_count": 6,
   "metadata": {},
   "outputs": [
    {
     "output_type": "execute_result",
     "data": {
      "text/plain": [
       "103"
      ]
     },
     "metadata": {},
     "execution_count": 6
    }
   ],
   "source": [
    "len(workers)"
   ]
  },
  {
   "cell_type": "code",
   "execution_count": 22,
   "metadata": {},
   "outputs": [],
   "source": [
    "last_position = {\n",
    "    \"https://crowdhire.s3.amazonaws.com/r1.pdf\":\"intern\",\n",
    "    \"https://crowdhire.s3.amazonaws.com/r2.pdf\":\"engineering intern\",\n",
    "    \"https://crowdhire.s3.amazonaws.com/r3.pdf\":\"summer associate\",\n",
    "    \"https://crowdhire.s3.amazonaws.com/r4.pdf\":\"software engineer intern\",\n",
    "    \"https://crowdhire.s3.amazonaws.com/r5.pdf\":\"private equity summer analyst\",\n",
    "    \"https://crowdhire.s3.amazonaws.com/r6.pdf\":\"summer engineering analyst\",\n",
    "}"
   ]
  },
  {
   "cell_type": "code",
   "execution_count": 23,
   "metadata": {},
   "outputs": [],
   "source": [
    "df = QC_input.loc[QC_input['Answer.Education Level'] == 'high school']"
   ]
  },
  {
   "cell_type": "code",
   "execution_count": null,
   "metadata": {},
   "outputs": [],
   "source": []
  },
  {
   "cell_type": "code",
   "execution_count": 39,
   "metadata": {
    "tags": []
   },
   "outputs": [],
   "source": [
    "quality_workers = set()\n",
    "for i, row in df.iterrows():\n",
    "    if row['Answer.Job Title'].lower().strip() == last_position[row['Input.document_url']]:\n",
    "        quality_workers.add(row['WorkerId'])\n"
   ]
  },
  {
   "cell_type": "code",
   "execution_count": 41,
   "metadata": {},
   "outputs": [
    {
     "output_type": "execute_result",
     "data": {
      "text/plain": [
       "{'A16DIQCMNWPBAN',\n",
       " 'A186UE010LCR9D',\n",
       " 'A197BCEGMRVHB6',\n",
       " 'A1B2UZIOR2IBOF',\n",
       " 'A1K8FF4A2UULRP',\n",
       " 'A1WF19EWL8S823',\n",
       " 'A2Q6A0FCZ9UKEH',\n",
       " 'A2SKDEXAFGAW4O',\n",
       " 'A2T7DZGDRJS8I2',\n",
       " 'A3GFV6VRFIJV8G',\n",
       " 'A708ZDH5M54W8',\n",
       " 'ABAYPFVE5NM8D',\n",
       " 'AMP43R3RISC1J',\n",
       " 'AP4ELIN3ZCADJ',\n",
       " 'AQ0CF3WG6XQKF',\n",
       " 'AQ38PB032Y6Y5',\n",
       " 'ASWM24LVE94TE',\n",
       " 'ATRJ3T353COZ1',\n",
       " 'AXNAWKFN8HLJ7',\n",
       " 'AZJYLX4T2W3NL'}"
      ]
     },
     "metadata": {},
     "execution_count": 41
    }
   ],
   "source": [
    "quality_workers"
   ]
  },
  {
   "cell_type": "code",
   "execution_count": null,
   "metadata": {},
   "outputs": [],
   "source": []
  }
 ],
 "metadata": {
  "kernelspec": {
   "name": "python376jvsc74a57bd0dca0ade3e726a953b501b15e8e990130d2b7799f14cfd9f4271676035ebe5511",
   "display_name": "Python 3.7.6 64-bit ('base': conda)"
  },
  "language_info": {
   "codemirror_mode": {
    "name": "ipython",
    "version": 3
   },
   "file_extension": ".py",
   "mimetype": "text/x-python",
   "name": "python",
   "nbconvert_exporter": "python",
   "pygments_lexer": "ipython3",
   "version": "3.7.6"
  }
 },
 "nbformat": 4,
 "nbformat_minor": 4
}